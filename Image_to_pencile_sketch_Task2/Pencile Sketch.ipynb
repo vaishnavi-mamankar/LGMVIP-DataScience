{
 "cells": [
  {
   "cell_type": "markdown",
   "id": "adb59b9d",
   "metadata": {},
   "source": [
    "# Data Science Internship\n",
    "### TASK-2 (Begineer)\n",
    "### Image to Pencil Sketch with Python\n"
   ]
  },
  {
   "cell_type": "code",
   "execution_count": 5,
   "id": "87e64a4a",
   "metadata": {},
   "outputs": [],
   "source": [
    "import cv2\n",
    "img=cv2.imread(\"image.jpg\")"
   ]
  },
  {
   "cell_type": "code",
   "execution_count": 6,
   "id": "1c6377dc",
   "metadata": {},
   "outputs": [],
   "source": [
    "grey_img = cv2.cvtColor(img,cv2.COLOR_BGR2GRAY)\n",
    "invert = cv2.bitwise_not(grey_img)\n",
    "blur = cv2.GaussianBlur(invert,(21,21),0)"
   ]
  },
  {
   "cell_type": "code",
   "execution_count": 7,
   "id": "0d8dd31d",
   "metadata": {},
   "outputs": [
    {
     "data": {
      "text/plain": [
       "-1"
      ]
     },
     "execution_count": 7,
     "metadata": {},
     "output_type": "execute_result"
    }
   ],
   "source": [
    "invertedblur=cv2.bitwise_not(blur)\n",
    "sketch=cv2.divide(grey_img,invertedblur,scale=256.0)\n",
    "cv2.imshow('original image',img)\n",
    "cv2.imshow('sketch image',sketch)\n",
    "cv2.waitKey(0)"
   ]
  },
  {
   "cell_type": "code",
   "execution_count": null,
   "id": "763a270e",
   "metadata": {},
   "outputs": [],
   "source": []
  }
 ],
 "metadata": {
  "kernelspec": {
   "display_name": "Python 3 (ipykernel)",
   "language": "python",
   "name": "python3"
  },
  "language_info": {
   "codemirror_mode": {
    "name": "ipython",
    "version": 3
   },
   "file_extension": ".py",
   "mimetype": "text/x-python",
   "name": "python",
   "nbconvert_exporter": "python",
   "pygments_lexer": "ipython3",
   "version": "3.9.7"
  }
 },
 "nbformat": 4,
 "nbformat_minor": 5
}
